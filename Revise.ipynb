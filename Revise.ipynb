{
 "cells": [
  {
   "cell_type": "code",
   "execution_count": null,
   "id": "2d26886f-113b-44ab-b089-7fbf5b596b6f",
   "metadata": {},
   "outputs": [],
   "source": [
    "import os\n",
    "import smtplib\n",
    "from email.message import EmailMessage\n",
    "import os\n",
    "import smtplib\n",
    "from email.message import EmailMessage\n",
    "\n",
    "\n",
    "def goi_email(subject, sender,password, receiver, attachment,body):\n",
    "    msg=EmailMessage()\n",
    "    msg['Subject']=subject\n",
    "    msg['From']=sender\n",
    "    msg['To']=receiver\n",
    "    files=[attachment]\n",
    "    msg.add_alternative(body,subtype='html')\n",
    "    for file in files:\n",
    "        with open(file,'rb') as f:\n",
    "            file_data=f.read()\n",
    "            file_name=f.name\n",
    "            msg.add_attachment(file_data,maintype='application',subtype='octet-stream',filename=file_name)\n",
    "    with smtplib.SMTP_SSL('smtp.gmail.com',465)as smtp:\n",
    "         smtp.login(sender,password)\n",
    "         smtp.send_message(msg)"
   ]
  },
  {
   "cell_type": "code",
   "execution_count": null,
   "id": "235f6673-091b-4641-abe7-137f25dc5943",
   "metadata": {},
   "outputs": [],
   "source": [
    "import pandas as pd\n",
    "df_ncc = pd.read_excel('Book.xlsx')\n",
    "df_ncc2 = df_ncc.set_index('VENDOR NAME')\n",
    "df_ncc2"
   ]
  },
  {
   "cell_type": "code",
   "execution_count": null,
   "id": "e66def15-b497-4c13-a9ee-d16f5f87ab43",
   "metadata": {},
   "outputs": [],
   "source": [
    "subject='ABC SET SCREW DIN 914 M5X10'\n",
    "sender='hanh.nm@delboel.com'\n",
    "password='delboel2022'\n",
    "attachment='Book.xlsx'\n",
    "\n",
    "body='''<p>Hello,&nbsp;</p>\n",
    "<p>Have a good day!</p>\n",
    "<p>Pls check attached drawing of SET SCREW SUS304 M5x10 and offer your best quote.&nbsp;</p>\n",
    "<table style=\"width: 551px;\" width=\"551\">\n",
    "<tbody>\n",
    "<tr>\n",
    "<td width=\"94\">Part number</td>\n",
    "<td width=\"80\">Part name</td>\n",
    "<td width=\"235\">Description</td>\n",
    "<td width=\"64\">Size</td>\n",
    "<td width=\"78\">QTY.</td>\n",
    "</tr>\n",
    "<tr>\n",
    "<td>M030622-1</td>\n",
    "<td width=\"80\">SET SCREW M5X10</td>\n",
    "<td width=\"235\">HEX SOCKET SET SCREW WITH CONE POINT DIN 914<br />SUS304, Hardness: 79-95 HRB (max 17 HRC).</td>\n",
    "<td width=\"64\">M5X10L</td>\n",
    "<td>MOQ 10K</td>\n",
    "</tr>\n",
    "</tbody>\n",
    "</table>\n",
    "<p>Thank you</p>\n",
    "<p>Hanna</p>\n",
    "<p>&nbsp;</p>'''"
   ]
  },
  {
   "cell_type": "code",
   "execution_count": null,
   "id": "35cf3077-b9cf-434f-81f5-339156e0ca4f",
   "metadata": {},
   "outputs": [],
   "source": [
    " for tung_ncc in df_ncc2.index:\n",
    "    receiver = df_ncc2.loc[tung_ncc,'EMAIL'].split(\",\")\n",
    "    goi_email(subject, sender,password, receiver, attachment,body)\n",
    "    print(f'gui thanh cong den nha cung cap {tung_ncc}')"
   ]
  }
 ],
 "metadata": {
  "kernelspec": {
   "display_name": "Python 3",
   "language": "python",
   "name": "python3"
  },
  "language_info": {
   "codemirror_mode": {
    "name": "ipython",
    "version": 3
   },
   "file_extension": ".py",
   "mimetype": "text/x-python",
   "name": "python",
   "nbconvert_exporter": "python",
   "pygments_lexer": "ipython3",
   "version": "3.8.8"
  }
 },
 "nbformat": 4,
 "nbformat_minor": 5
}
